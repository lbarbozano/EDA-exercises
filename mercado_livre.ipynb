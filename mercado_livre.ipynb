{
  "nbformat": 4,
  "nbformat_minor": 0,
  "metadata": {
    "colab": {
      "name": "mercado livre",
      "provenance": [],
      "authorship_tag": "ABX9TyPbbHTPdKLiU3ivCY7bIs6p",
      "include_colab_link": true
    },
    "kernelspec": {
      "name": "python3",
      "display_name": "Python 3"
    }
  },
  "cells": [
    {
      "cell_type": "markdown",
      "metadata": {
        "id": "view-in-github",
        "colab_type": "text"
      },
      "source": [
        "<a href=\"https://colab.research.google.com/github/lbarbozano/EDA-exercises/blob/master/mercado_livre.ipynb\" target=\"_parent\"><img src=\"https://colab.research.google.com/assets/colab-badge.svg\" alt=\"Open In Colab\"/></a>"
      ]
    },
    {
      "cell_type": "code",
      "metadata": {
        "id": "8pyHdlsG8dzw"
      },
      "source": [
        "import requests\n",
        "from bs4 import BeautifulSoup\n",
        "import pandas as pd\n",
        "from time import sleep"
      ],
      "execution_count": null,
      "outputs": []
    },
    {
      "cell_type": "code",
      "metadata": {
        "id": "yROkXzJo-Ehv"
      },
      "source": [
        "zonas = ['norte', 'sul', 'leste', 'oeste']\n",
        "URL='https://imoveis.mercadolivre.com.br/casas/aluguel/sao-paulo/sao-paulo-zona-{}/{}'\n",
        "paginas = ['', '_Desde_49', '_Desde_97', '_Desde_145', '_Desde_193', \n",
        "           '_Desde_241', '_Desde_289']"
      ],
      "execution_count": null,
      "outputs": []
    },
    {
      "cell_type": "code",
      "metadata": {
        "id": "zNZQIoxA-Kdv"
      },
      "source": [
        "def scrap(url):\n",
        "    c=requests.get(url).content\n",
        "    soup=BeautifulSoup(c)\n",
        "    aluguel_tags = soup.find_all('span', {'class':'price-tag-fraction'})\n",
        "    alugueis_lista = [p.text for p in aluguel_tags]\n",
        "    enderecos_tags = soup.find_all('span', {'class':'ui-search-item__group__element'})\n",
        "    enderecos_lista=[end.text for end in enderecos_tags]\n",
        "    enderecos_lista=enderecos_lista[1::2]\n",
        "    area_quartos_tags = soup.find_all('ul', {'class':'ui-search-card-attributes'})\n",
        "    area_quartos_lista=[aq.text for aq in area_quartos_tags]\n",
        "    df=convert_df(zona, area_quartos_lista, enderecos_lista, alugueis_lista)\n",
        "    return df\n",
        "\n",
        "def convert_df(zona, area_quartos_lista, enderecos_lista, alugueis_lista):\n",
        "    zonas_lista = [zona]*len(alugueis_lista)\n",
        "    data = {'zona': zonas_lista,\n",
        "            'area_quartos': area_quartos_lista,\n",
        "            'enderecos_lista':enderecos_lista,\n",
        "            'aluguel': alugueis_lista}\n",
        "    df = pd.DataFrame(data)\n",
        "    return df"
      ],
      "execution_count": null,
      "outputs": []
    },
    {
      "cell_type": "code",
      "metadata": {
        "id": "JgwBo8su-QJc",
        "outputId": "42d0f176-c7b3-4c51-9991-70c60d422358",
        "colab": {
          "base_uri": "https://localhost:8080/"
        }
      },
      "source": [
        "df_lista = []\n",
        "for zona in zonas:\n",
        "  for pg in paginas:\n",
        "    url=URL.format(zona, pg)\n",
        "    print('Coletando URL:', url)\n",
        "    try:\n",
        "      df=scrap(url)\n",
        "    except Exception as e:\n",
        "      print('Erro ao coletar URL:', url)\n",
        "      print(e)\n",
        "    df_lista.append(df)\n",
        "    sleep(1)\n",
        "df_final = pd.concat(df_lista)"
      ],
      "execution_count": null,
      "outputs": [
        {
          "output_type": "stream",
          "text": [
            "Coletando URL: https://imoveis.mercadolivre.com.br/casas/aluguel/sao-paulo/sao-paulo-zona-norte/\n",
            "Coletando URL: https://imoveis.mercadolivre.com.br/casas/aluguel/sao-paulo/sao-paulo-zona-norte/_Desde_49\n",
            "Coletando URL: https://imoveis.mercadolivre.com.br/casas/aluguel/sao-paulo/sao-paulo-zona-norte/_Desde_97\n",
            "Coletando URL: https://imoveis.mercadolivre.com.br/casas/aluguel/sao-paulo/sao-paulo-zona-norte/_Desde_145\n",
            "Coletando URL: https://imoveis.mercadolivre.com.br/casas/aluguel/sao-paulo/sao-paulo-zona-norte/_Desde_193\n",
            "Coletando URL: https://imoveis.mercadolivre.com.br/casas/aluguel/sao-paulo/sao-paulo-zona-norte/_Desde_241\n",
            "Coletando URL: https://imoveis.mercadolivre.com.br/casas/aluguel/sao-paulo/sao-paulo-zona-norte/_Desde_289\n",
            "Erro ao coletar URL: https://imoveis.mercadolivre.com.br/casas/aluguel/sao-paulo/sao-paulo-zona-norte/_Desde_289\n",
            "arrays must all be same length\n",
            "Coletando URL: https://imoveis.mercadolivre.com.br/casas/aluguel/sao-paulo/sao-paulo-zona-sul/\n",
            "Coletando URL: https://imoveis.mercadolivre.com.br/casas/aluguel/sao-paulo/sao-paulo-zona-sul/_Desde_49\n",
            "Erro ao coletar URL: https://imoveis.mercadolivre.com.br/casas/aluguel/sao-paulo/sao-paulo-zona-sul/_Desde_49\n",
            "arrays must all be same length\n",
            "Coletando URL: https://imoveis.mercadolivre.com.br/casas/aluguel/sao-paulo/sao-paulo-zona-sul/_Desde_97\n",
            "Erro ao coletar URL: https://imoveis.mercadolivre.com.br/casas/aluguel/sao-paulo/sao-paulo-zona-sul/_Desde_97\n",
            "arrays must all be same length\n",
            "Coletando URL: https://imoveis.mercadolivre.com.br/casas/aluguel/sao-paulo/sao-paulo-zona-sul/_Desde_145\n",
            "Coletando URL: https://imoveis.mercadolivre.com.br/casas/aluguel/sao-paulo/sao-paulo-zona-sul/_Desde_193\n",
            "Erro ao coletar URL: https://imoveis.mercadolivre.com.br/casas/aluguel/sao-paulo/sao-paulo-zona-sul/_Desde_193\n",
            "arrays must all be same length\n",
            "Coletando URL: https://imoveis.mercadolivre.com.br/casas/aluguel/sao-paulo/sao-paulo-zona-sul/_Desde_241\n",
            "Coletando URL: https://imoveis.mercadolivre.com.br/casas/aluguel/sao-paulo/sao-paulo-zona-sul/_Desde_289\n",
            "Coletando URL: https://imoveis.mercadolivre.com.br/casas/aluguel/sao-paulo/sao-paulo-zona-leste/\n",
            "Coletando URL: https://imoveis.mercadolivre.com.br/casas/aluguel/sao-paulo/sao-paulo-zona-leste/_Desde_49\n",
            "Coletando URL: https://imoveis.mercadolivre.com.br/casas/aluguel/sao-paulo/sao-paulo-zona-leste/_Desde_97\n",
            "Coletando URL: https://imoveis.mercadolivre.com.br/casas/aluguel/sao-paulo/sao-paulo-zona-leste/_Desde_145\n",
            "Coletando URL: https://imoveis.mercadolivre.com.br/casas/aluguel/sao-paulo/sao-paulo-zona-leste/_Desde_193\n",
            "Coletando URL: https://imoveis.mercadolivre.com.br/casas/aluguel/sao-paulo/sao-paulo-zona-leste/_Desde_241\n",
            "Erro ao coletar URL: https://imoveis.mercadolivre.com.br/casas/aluguel/sao-paulo/sao-paulo-zona-leste/_Desde_241\n",
            "arrays must all be same length\n",
            "Coletando URL: https://imoveis.mercadolivre.com.br/casas/aluguel/sao-paulo/sao-paulo-zona-leste/_Desde_289\n",
            "Coletando URL: https://imoveis.mercadolivre.com.br/casas/aluguel/sao-paulo/sao-paulo-zona-oeste/\n",
            "Coletando URL: https://imoveis.mercadolivre.com.br/casas/aluguel/sao-paulo/sao-paulo-zona-oeste/_Desde_49\n",
            "Erro ao coletar URL: https://imoveis.mercadolivre.com.br/casas/aluguel/sao-paulo/sao-paulo-zona-oeste/_Desde_49\n",
            "arrays must all be same length\n",
            "Coletando URL: https://imoveis.mercadolivre.com.br/casas/aluguel/sao-paulo/sao-paulo-zona-oeste/_Desde_97\n",
            "Erro ao coletar URL: https://imoveis.mercadolivre.com.br/casas/aluguel/sao-paulo/sao-paulo-zona-oeste/_Desde_97\n",
            "arrays must all be same length\n",
            "Coletando URL: https://imoveis.mercadolivre.com.br/casas/aluguel/sao-paulo/sao-paulo-zona-oeste/_Desde_145\n",
            "Coletando URL: https://imoveis.mercadolivre.com.br/casas/aluguel/sao-paulo/sao-paulo-zona-oeste/_Desde_193\n",
            "Coletando URL: https://imoveis.mercadolivre.com.br/casas/aluguel/sao-paulo/sao-paulo-zona-oeste/_Desde_241\n",
            "Coletando URL: https://imoveis.mercadolivre.com.br/casas/aluguel/sao-paulo/sao-paulo-zona-oeste/_Desde_289\n"
          ],
          "name": "stdout"
        }
      ]
    },
    {
      "cell_type": "code",
      "metadata": {
        "id": "4yCsO9-E-cLq",
        "outputId": "c2c01616-3297-4387-8579-ca8beb4ac606",
        "colab": {
          "base_uri": "https://localhost:8080/",
          "height": 204
        }
      },
      "source": [
        "df_final.head()"
      ],
      "execution_count": null,
      "outputs": [
        {
          "output_type": "execute_result",
          "data": {
            "text/html": [
              "<div>\n",
              "<style scoped>\n",
              "    .dataframe tbody tr th:only-of-type {\n",
              "        vertical-align: middle;\n",
              "    }\n",
              "\n",
              "    .dataframe tbody tr th {\n",
              "        vertical-align: top;\n",
              "    }\n",
              "\n",
              "    .dataframe thead th {\n",
              "        text-align: right;\n",
              "    }\n",
              "</style>\n",
              "<table border=\"1\" class=\"dataframe\">\n",
              "  <thead>\n",
              "    <tr style=\"text-align: right;\">\n",
              "      <th></th>\n",
              "      <th>zona</th>\n",
              "      <th>area_quartos</th>\n",
              "      <th>enderecos_lista</th>\n",
              "      <th>aluguel</th>\n",
              "    </tr>\n",
              "  </thead>\n",
              "  <tbody>\n",
              "    <tr>\n",
              "      <th>0</th>\n",
              "      <td>norte</td>\n",
              "      <td>70 m² construídos1 quarto</td>\n",
              "      <td>Nobrega De Souza Coutinho 05, Jardim Peri, São...</td>\n",
              "      <td>600</td>\n",
              "    </tr>\n",
              "    <tr>\n",
              "      <th>1</th>\n",
              "      <td>norte</td>\n",
              "      <td>90 m² construídos1 quarto</td>\n",
              "      <td>Enoch Barreira De Macedo 88, Parque Tietê, São...</td>\n",
              "      <td>900</td>\n",
              "    </tr>\n",
              "    <tr>\n",
              "      <th>2</th>\n",
              "      <td>norte</td>\n",
              "      <td>80 m² construídos2 quartos</td>\n",
              "      <td>Rua José Eduardo Raduan 5, Parque Edu Chaves, ...</td>\n",
              "      <td>1.299</td>\n",
              "    </tr>\n",
              "    <tr>\n",
              "      <th>3</th>\n",
              "      <td>norte</td>\n",
              "      <td>50 m² construídos1 quarto</td>\n",
              "      <td>Rua Campo Belo Do Sul 113, Parque Vitória, São...</td>\n",
              "      <td>1.000</td>\n",
              "    </tr>\n",
              "    <tr>\n",
              "      <th>4</th>\n",
              "      <td>norte</td>\n",
              "      <td>50 m² construídos1 quarto</td>\n",
              "      <td>Rua Brandão Agrões 176, Jardim Peri, São Paulo...</td>\n",
              "      <td>800</td>\n",
              "    </tr>\n",
              "  </tbody>\n",
              "</table>\n",
              "</div>"
            ],
            "text/plain": [
              "    zona  ... aluguel\n",
              "0  norte  ...     600\n",
              "1  norte  ...     900\n",
              "2  norte  ...   1.299\n",
              "3  norte  ...   1.000\n",
              "4  norte  ...     800\n",
              "\n",
              "[5 rows x 4 columns]"
            ]
          },
          "metadata": {
            "tags": []
          },
          "execution_count": 5
        }
      ]
    },
    {
      "cell_type": "code",
      "metadata": {
        "id": "yNpeNHRILYwN"
      },
      "source": [
        "df.to_csv('dados_aluguel_ml_sao_paulo.csv', index=False, encoding='latin-1')"
      ],
      "execution_count": 6,
      "outputs": []
    },
    {
      "cell_type": "code",
      "metadata": {
        "id": "yR9DeOX4La7y",
        "outputId": "fdf61d2f-e99f-4587-e344-7fca688b8f6f",
        "colab": {
          "base_uri": "https://localhost:8080/"
        }
      },
      "source": [
        "df.area_quartos.head(50)"
      ],
      "execution_count": 7,
      "outputs": [
        {
          "output_type": "execute_result",
          "data": {
            "text/plain": [
              "0       120 m² construídos2 quartos\n",
              "1       105 m² construídos3 quartos\n",
              "2     1,100 m² construídos5 quartos\n",
              "3              70 m² totais1 quarto\n",
              "4       250 m² construídos3 quartos\n",
              "5       123 m² construídos3 quartos\n",
              "6       100 m² construídos4 quartos\n",
              "7       120 m² construídos2 quartos\n",
              "8        50 m² construídos2 quartos\n",
              "9       130 m² construídos3 quartos\n",
              "10      150 m² construídos4 quartos\n",
              "11      288 m² construídos4 quartos\n",
              "12        58 m² construídos1 quarto\n",
              "13      300 m² construídos4 quartos\n",
              "14       50 m² construídos2 quartos\n",
              "15               210 m² construídos\n",
              "16      100 m² construídos3 quartos\n",
              "17      400 m² construídos4 quartos\n",
              "18      150 m² construídos4 quartos\n",
              "19      160 m² construídos3 quartos\n",
              "20      140 m² construídos2 quartos\n",
              "21      238 m² construídos5 quartos\n",
              "22      140 m² construídos3 quartos\n",
              "23      297 m² construídos4 quartos\n",
              "24      140 m² construídos3 quartos\n",
              "25      350 m² construídos3 quartos\n",
              "26      140 m² construídos3 quartos\n",
              "27      100 m² construídos2 quartos\n",
              "28        21 m² construídos1 quarto\n",
              "29      490 m² construídos5 quartos\n",
              "30           300 m² totais2 quartos\n",
              "31               180 m² construídos\n",
              "32      294 m² construídos3 quartos\n",
              "33      380 m² construídos3 quartos\n",
              "34      307 m² construídos4 quartos\n",
              "35               380 m² construídos\n",
              "36            90 m² totais3 quartos\n",
              "37           492 m² totais5 quartos\n",
              "38      517 m² construídos4 quartos\n",
              "39      180 m² construídos3 quartos\n",
              "40       80 m² construídos2 quartos\n",
              "41      180 m² construídos3 quartos\n",
              "42      300 m² construídos5 quartos\n",
              "43      420 m² construídos3 quartos\n",
              "44       85 m² construídos2 quartos\n",
              "45                        3 quartos\n",
              "46      412 m² construídos4 quartos\n",
              "47      160 m² construídos3 quartos\n",
              "Name: area_quartos, dtype: object"
            ]
          },
          "metadata": {
            "tags": []
          },
          "execution_count": 7
        }
      ]
    }
  ]
}